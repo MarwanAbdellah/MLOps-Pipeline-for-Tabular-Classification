{
 "cells": [
  {
   "cell_type": "code",
   "execution_count": 1,
   "id": "3f58fe05",
   "metadata": {},
   "outputs": [],
   "source": [
    "from pathlib import Path\n",
    "import os\n",
    "\n",
    "if __name__ == \"__main__\":\n",
    "    current_path = Path.cwd()\n",
    "\n",
    "    parent_dir = current_path.parent\n",
    "\n",
    "    os.chdir(parent_dir)"
   ]
  },
  {
   "cell_type": "markdown",
   "id": "b0198a65",
   "metadata": {},
   "source": [
    "# Importing our Libraries"
   ]
  },
  {
   "cell_type": "code",
   "execution_count": 2,
   "id": "a926ef8e",
   "metadata": {},
   "outputs": [],
   "source": [
    "import pandas as pd\n",
    "import numpy as np\n",
    "\n",
    "import matplotlib.pyplot as plt\n",
    "import seaborn as sns\n",
    "\n",
    "import torch\n",
    "import torch.nn as nn\n",
    "import torch.optim as optim\n",
    "from torch.utils.data import TensorDataset, DataLoader\n",
    "\n",
    "\n",
    "from sklearn.model_selection import train_test_split\n",
    "from sklearn.preprocessing import LabelEncoder, MinMaxScaler\n",
    "\n",
    "import onnx as nx\n",
    "import onnxruntime as ort"
   ]
  },
  {
   "cell_type": "markdown",
   "id": "648791a3",
   "metadata": {},
   "source": [
    "# Importing our data"
   ]
  },
  {
   "cell_type": "code",
   "execution_count": 3,
   "id": "133a1dc9",
   "metadata": {},
   "outputs": [],
   "source": [
    "df_train = pd.read_csv(r'Dataset\\train.csv')\n",
    "\n",
    "df_test = pd.read_csv(r'Dataset\\test.csv')"
   ]
  },
  {
   "cell_type": "markdown",
   "id": "a41cac58",
   "metadata": {},
   "source": [
    "# EDA"
   ]
  },
  {
   "cell_type": "markdown",
   "id": "23ecf758",
   "metadata": {},
   "source": [
    "## Data info"
   ]
  },
  {
   "cell_type": "code",
   "execution_count": 4,
   "id": "d01d445d",
   "metadata": {},
   "outputs": [
    {
     "data": {
      "text/html": [
       "<div>\n",
       "<style scoped>\n",
       "    .dataframe tbody tr th:only-of-type {\n",
       "        vertical-align: middle;\n",
       "    }\n",
       "\n",
       "    .dataframe tbody tr th {\n",
       "        vertical-align: top;\n",
       "    }\n",
       "\n",
       "    .dataframe thead th {\n",
       "        text-align: right;\n",
       "    }\n",
       "</style>\n",
       "<table border=\"1\" class=\"dataframe\">\n",
       "  <thead>\n",
       "    <tr style=\"text-align: right;\">\n",
       "      <th></th>\n",
       "      <th>PassengerId</th>\n",
       "      <th>Survived</th>\n",
       "      <th>Pclass</th>\n",
       "      <th>Name</th>\n",
       "      <th>Sex</th>\n",
       "      <th>Age</th>\n",
       "      <th>SibSp</th>\n",
       "      <th>Parch</th>\n",
       "      <th>Ticket</th>\n",
       "      <th>Fare</th>\n",
       "      <th>Cabin</th>\n",
       "      <th>Embarked</th>\n",
       "    </tr>\n",
       "  </thead>\n",
       "  <tbody>\n",
       "    <tr>\n",
       "      <th>0</th>\n",
       "      <td>1</td>\n",
       "      <td>0</td>\n",
       "      <td>3</td>\n",
       "      <td>Braund, Mr. Owen Harris</td>\n",
       "      <td>male</td>\n",
       "      <td>22.0</td>\n",
       "      <td>1</td>\n",
       "      <td>0</td>\n",
       "      <td>A/5 21171</td>\n",
       "      <td>7.2500</td>\n",
       "      <td>NaN</td>\n",
       "      <td>S</td>\n",
       "    </tr>\n",
       "    <tr>\n",
       "      <th>1</th>\n",
       "      <td>2</td>\n",
       "      <td>1</td>\n",
       "      <td>1</td>\n",
       "      <td>Cumings, Mrs. John Bradley (Florence Briggs Th...</td>\n",
       "      <td>female</td>\n",
       "      <td>38.0</td>\n",
       "      <td>1</td>\n",
       "      <td>0</td>\n",
       "      <td>PC 17599</td>\n",
       "      <td>71.2833</td>\n",
       "      <td>C85</td>\n",
       "      <td>C</td>\n",
       "    </tr>\n",
       "    <tr>\n",
       "      <th>2</th>\n",
       "      <td>3</td>\n",
       "      <td>1</td>\n",
       "      <td>3</td>\n",
       "      <td>Heikkinen, Miss. Laina</td>\n",
       "      <td>female</td>\n",
       "      <td>26.0</td>\n",
       "      <td>0</td>\n",
       "      <td>0</td>\n",
       "      <td>STON/O2. 3101282</td>\n",
       "      <td>7.9250</td>\n",
       "      <td>NaN</td>\n",
       "      <td>S</td>\n",
       "    </tr>\n",
       "    <tr>\n",
       "      <th>3</th>\n",
       "      <td>4</td>\n",
       "      <td>1</td>\n",
       "      <td>1</td>\n",
       "      <td>Futrelle, Mrs. Jacques Heath (Lily May Peel)</td>\n",
       "      <td>female</td>\n",
       "      <td>35.0</td>\n",
       "      <td>1</td>\n",
       "      <td>0</td>\n",
       "      <td>113803</td>\n",
       "      <td>53.1000</td>\n",
       "      <td>C123</td>\n",
       "      <td>S</td>\n",
       "    </tr>\n",
       "    <tr>\n",
       "      <th>4</th>\n",
       "      <td>5</td>\n",
       "      <td>0</td>\n",
       "      <td>3</td>\n",
       "      <td>Allen, Mr. William Henry</td>\n",
       "      <td>male</td>\n",
       "      <td>35.0</td>\n",
       "      <td>0</td>\n",
       "      <td>0</td>\n",
       "      <td>373450</td>\n",
       "      <td>8.0500</td>\n",
       "      <td>NaN</td>\n",
       "      <td>S</td>\n",
       "    </tr>\n",
       "  </tbody>\n",
       "</table>\n",
       "</div>"
      ],
      "text/plain": [
       "   PassengerId  Survived  Pclass  \\\n",
       "0            1         0       3   \n",
       "1            2         1       1   \n",
       "2            3         1       3   \n",
       "3            4         1       1   \n",
       "4            5         0       3   \n",
       "\n",
       "                                                Name     Sex   Age  SibSp  \\\n",
       "0                            Braund, Mr. Owen Harris    male  22.0      1   \n",
       "1  Cumings, Mrs. John Bradley (Florence Briggs Th...  female  38.0      1   \n",
       "2                             Heikkinen, Miss. Laina  female  26.0      0   \n",
       "3       Futrelle, Mrs. Jacques Heath (Lily May Peel)  female  35.0      1   \n",
       "4                           Allen, Mr. William Henry    male  35.0      0   \n",
       "\n",
       "   Parch            Ticket     Fare Cabin Embarked  \n",
       "0      0         A/5 21171   7.2500   NaN        S  \n",
       "1      0          PC 17599  71.2833   C85        C  \n",
       "2      0  STON/O2. 3101282   7.9250   NaN        S  \n",
       "3      0            113803  53.1000  C123        S  \n",
       "4      0            373450   8.0500   NaN        S  "
      ]
     },
     "execution_count": 4,
     "metadata": {},
     "output_type": "execute_result"
    }
   ],
   "source": [
    "df_train.head()"
   ]
  },
  {
   "cell_type": "code",
   "execution_count": 5,
   "id": "d69a49f7",
   "metadata": {},
   "outputs": [
    {
     "name": "stdout",
     "output_type": "stream",
     "text": [
      "<class 'pandas.core.frame.DataFrame'>\n",
      "RangeIndex: 891 entries, 0 to 890\n",
      "Data columns (total 12 columns):\n",
      " #   Column       Non-Null Count  Dtype  \n",
      "---  ------       --------------  -----  \n",
      " 0   PassengerId  891 non-null    int64  \n",
      " 1   Survived     891 non-null    int64  \n",
      " 2   Pclass       891 non-null    int64  \n",
      " 3   Name         891 non-null    object \n",
      " 4   Sex          891 non-null    object \n",
      " 5   Age          714 non-null    float64\n",
      " 6   SibSp        891 non-null    int64  \n",
      " 7   Parch        891 non-null    int64  \n",
      " 8   Ticket       891 non-null    object \n",
      " 9   Fare         891 non-null    float64\n",
      " 10  Cabin        204 non-null    object \n",
      " 11  Embarked     889 non-null    object \n",
      "dtypes: float64(2), int64(5), object(5)\n",
      "memory usage: 83.7+ KB\n"
     ]
    }
   ],
   "source": [
    "df_train.info()"
   ]
  },
  {
   "cell_type": "markdown",
   "id": "9bea4113",
   "metadata": {},
   "source": [
    "## Titanic Dataset Feature Descriptions\n",
    "\n",
    "| **Feature**     |                                                 **Description**                                                |\n",
    "|-----------------|----------------------------------------------------------------------------------------------------------------|\n",
    "| `PassengerId`   | A unique identifier for each passenger.                                                                        |\n",
    "| `Survived`      | Survival status (**target variable**): <br> `0` = Did not survive, `1` = Survived.                             |\n",
    "| `Pclass`        | Ticket class (proxy for socio-economic status): <br> `1` = First class, `2` = Second class, `3` = Third class. |\n",
    "| `Name`          | Full name of the passenger.                                                                                    |\n",
    "| `Sex`           | Gender of the passenger: `male` or `female`.                                                                   |\n",
    "| `Age`           | Age in years.                                                                                                  |\n",
    "| `SibSp`         | Number of siblings or spouses aboard the Titanic. Indicates family relationships.                              |\n",
    "| `Parch`         | Number of parents or children aboard.                                                                          |\n",
    "| `Ticket`        | Ticket number.                                                                                                 |\n",
    "| `Fare`          | Amount paid for the ticket.                                                                                    |\n",
    "| `Cabin`         | Cabin number. First letter indicates deck, which may have predictive value.                                    |\n",
    "| `Embarked`      | Port of embarkation: <br> `C` = Cherbourg, `Q` = Queenstown, `S` = Southampton.                                |\n"
   ]
  },
  {
   "cell_type": "markdown",
   "id": "5fdaf829",
   "metadata": {},
   "source": [
    "## Data Shape"
   ]
  },
  {
   "cell_type": "code",
   "execution_count": 6,
   "id": "5efd0573",
   "metadata": {},
   "outputs": [
    {
     "data": {
      "text/plain": [
       "(891, 12)"
      ]
     },
     "execution_count": 6,
     "metadata": {},
     "output_type": "execute_result"
    }
   ],
   "source": [
    "df_train.shape"
   ]
  },
  {
   "cell_type": "markdown",
   "id": "2c696b5b",
   "metadata": {},
   "source": [
    "## Null values"
   ]
  },
  {
   "cell_type": "code",
   "execution_count": 7,
   "id": "2d33db8f",
   "metadata": {},
   "outputs": [
    {
     "data": {
      "application/vnd.microsoft.datawrangler.viewer.v0+json": {
       "columns": [
        {
         "name": "index",
         "rawType": "object",
         "type": "string"
        },
        {
         "name": "0",
         "rawType": "int64",
         "type": "integer"
        }
       ],
       "ref": "7501281a-8b6e-425f-8cff-624ae11643ee",
       "rows": [
        [
         "PassengerId",
         "0"
        ],
        [
         "Survived",
         "0"
        ],
        [
         "Pclass",
         "0"
        ],
        [
         "Name",
         "0"
        ],
        [
         "Sex",
         "0"
        ],
        [
         "Age",
         "177"
        ],
        [
         "SibSp",
         "0"
        ],
        [
         "Parch",
         "0"
        ],
        [
         "Ticket",
         "0"
        ],
        [
         "Fare",
         "0"
        ],
        [
         "Cabin",
         "687"
        ],
        [
         "Embarked",
         "2"
        ]
       ],
       "shape": {
        "columns": 1,
        "rows": 12
       }
      },
      "text/plain": [
       "PassengerId      0\n",
       "Survived         0\n",
       "Pclass           0\n",
       "Name             0\n",
       "Sex              0\n",
       "Age            177\n",
       "SibSp            0\n",
       "Parch            0\n",
       "Ticket           0\n",
       "Fare             0\n",
       "Cabin          687\n",
       "Embarked         2\n",
       "dtype: int64"
      ]
     },
     "execution_count": 7,
     "metadata": {},
     "output_type": "execute_result"
    }
   ],
   "source": [
    "df_train.isna().sum()"
   ]
  },
  {
   "cell_type": "markdown",
   "id": "008c2e90",
   "metadata": {},
   "source": [
    "## Duplicate values"
   ]
  },
  {
   "cell_type": "code",
   "execution_count": 8,
   "id": "b53b1d17",
   "metadata": {},
   "outputs": [
    {
     "data": {
      "text/plain": [
       "np.int64(0)"
      ]
     },
     "execution_count": 8,
     "metadata": {},
     "output_type": "execute_result"
    }
   ],
   "source": [
    "df_train.duplicated().sum()"
   ]
  },
  {
   "cell_type": "markdown",
   "id": "70353007",
   "metadata": {},
   "source": [
    "## Survivability diagrams"
   ]
  },
  {
   "cell_type": "markdown",
   "id": "4952ed87",
   "metadata": {},
   "source": [
    "### Per Sex"
   ]
  },
  {
   "cell_type": "code",
   "execution_count": 9,
   "id": "45d6d273",
   "metadata": {},
   "outputs": [
    {
     "data": {
      "text/plain": [
       "<Axes: xlabel='Sex', ylabel='Survived'>"
      ]
     },
     "execution_count": 9,
     "metadata": {},
     "output_type": "execute_result"
    },
    {
     "data": {
      "image/png": "[encoded data removed]",
      "text/plain": [
       "<Figure size 640x480 with 1 Axes>"
      ]
     },
     "metadata": {},
     "output_type": "display_data"
    }
   ],
   "source": [
    "sns.barplot(x='Sex', y='Survived', data=df_train)"
   ]
  },
  {
   "cell_type": "markdown",
   "id": "1497a78e",
   "metadata": {},
   "source": [
    "### Per Age"
   ]
  },
  {
   "cell_type": "code",
   "execution_count": 10,
   "id": "c7700717",
   "metadata": {},
   "outputs": [
    {
     "data": {
      "text/plain": [
       "<Axes: xlabel='Survived', ylabel='Age'>"
      ]
     },
     "execution_count": 10,
     "metadata": {},
     "output_type": "execute_result"
    },
    {
     "data": {
      "image/png": "[encoded data removed]",
      "text/plain": [
       "<Figure size 640x480 with 1 Axes>"
      ]
     },
     "metadata": {},
     "output_type": "display_data"
    }
   ],
   "source": [
    "sns.barplot(x='Survived', y='Age', data=df_train)"
   ]
  },
  {
   "cell_type": "markdown",
   "id": "8a83cd64",
   "metadata": {},
   "source": [
    "# Data Preprocessing"
   ]
  },
  {
   "cell_type": "markdown",
   "id": "fc4b9b09",
   "metadata": {},
   "source": [
    "## Dropping unnecessary features"
   ]
  },
  {
   "cell_type": "code",
   "execution_count": 11,
   "id": "873cc17f",
   "metadata": {},
   "outputs": [
    {
     "data": {
      "text/html": [
       "<div>\n",
       "<style scoped>\n",
       "    .dataframe tbody tr th:only-of-type {\n",
       "        vertical-align: middle;\n",
       "    }\n",
       "\n",
       "    .dataframe tbody tr th {\n",
       "        vertical-align: top;\n",
       "    }\n",
       "\n",
       "    .dataframe thead th {\n",
       "        text-align: right;\n",
       "    }\n",
       "</style>\n",
       "<table border=\"1\" class=\"dataframe\">\n",
       "  <thead>\n",
       "    <tr style=\"text-align: right;\">\n",
       "      <th></th>\n",
       "      <th>PassengerId</th>\n",
       "      <th>Survived</th>\n",
       "      <th>Pclass</th>\n",
       "      <th>Name</th>\n",
       "      <th>Sex</th>\n",
       "      <th>Age</th>\n",
       "      <th>SibSp</th>\n",
       "      <th>Parch</th>\n",
       "      <th>Ticket</th>\n",
       "      <th>Fare</th>\n",
       "      <th>Cabin</th>\n",
       "      <th>Embarked</th>\n",
       "    </tr>\n",
       "  </thead>\n",
       "  <tbody>\n",
       "    <tr>\n",
       "      <th>0</th>\n",
       "      <td>1</td>\n",
       "      <td>0</td>\n",
       "      <td>3</td>\n",
       "      <td>Braund, Mr. Owen Harris</td>\n",
       "      <td>male</td>\n",
       "      <td>22.0</td>\n",
       "      <td>1</td>\n",
       "      <td>0</td>\n",
       "      <td>A/5 21171</td>\n",
       "      <td>7.2500</td>\n",
       "      <td>NaN</td>\n",
       "      <td>S</td>\n",
       "    </tr>\n",
       "    <tr>\n",
       "      <th>1</th>\n",
       "      <td>2</td>\n",
       "      <td>1</td>\n",
       "      <td>1</td>\n",
       "      <td>Cumings, Mrs. John Bradley (Florence Briggs Th...</td>\n",
       "      <td>female</td>\n",
       "      <td>38.0</td>\n",
       "      <td>1</td>\n",
       "      <td>0</td>\n",
       "      <td>PC 17599</td>\n",
       "      <td>71.2833</td>\n",
       "      <td>C85</td>\n",
       "      <td>C</td>\n",
       "    </tr>\n",
       "    <tr>\n",
       "      <th>2</th>\n",
       "      <td>3</td>\n",
       "      <td>1</td>\n",
       "      <td>3</td>\n",
       "      <td>Heikkinen, Miss. Laina</td>\n",
       "      <td>female</td>\n",
       "      <td>26.0</td>\n",
       "      <td>0</td>\n",
       "      <td>0</td>\n",
       "      <td>STON/O2. 3101282</td>\n",
       "      <td>7.9250</td>\n",
       "      <td>NaN</td>\n",
       "      <td>S</td>\n",
       "    </tr>\n",
       "    <tr>\n",
       "      <th>3</th>\n",
       "      <td>4</td>\n",
       "      <td>1</td>\n",
       "      <td>1</td>\n",
       "      <td>Futrelle, Mrs. Jacques Heath (Lily May Peel)</td>\n",
       "      <td>female</td>\n",
       "      <td>35.0</td>\n",
       "      <td>1</td>\n",
       "      <td>0</td>\n",
       "      <td>113803</td>\n",
       "      <td>53.1000</td>\n",
       "      <td>C123</td>\n",
       "      <td>S</td>\n",
       "    </tr>\n",
       "    <tr>\n",
       "      <th>4</th>\n",
       "      <td>5</td>\n",
       "      <td>0</td>\n",
       "      <td>3</td>\n",
       "      <td>Allen, Mr. William Henry</td>\n",
       "      <td>male</td>\n",
       "      <td>35.0</td>\n",
       "      <td>0</td>\n",
       "      <td>0</td>\n",
       "      <td>373450</td>\n",
       "      <td>8.0500</td>\n",
       "      <td>NaN</td>\n",
       "      <td>S</td>\n",
       "    </tr>\n",
       "  </tbody>\n",
       "</table>\n",
       "</div>"
      ],
      "text/plain": [
       "   PassengerId  Survived  Pclass  \\\n",
       "0            1         0       3   \n",
       "1            2         1       1   \n",
       "2            3         1       3   \n",
       "3            4         1       1   \n",
       "4            5         0       3   \n",
       "\n",
       "                                                Name     Sex   Age  SibSp  \\\n",
       "0                            Braund, Mr. Owen Harris    male  22.0      1   \n",
       "1  Cumings, Mrs. John Bradley (Florence Briggs Th...  female  38.0      1   \n",
       "2                             Heikkinen, Miss. Laina  female  26.0      0   \n",
       "3       Futrelle, Mrs. Jacques Heath (Lily May Peel)  female  35.0      1   \n",
       "4                           Allen, Mr. William Henry    male  35.0      0   \n",
       "\n",
       "   Parch            Ticket     Fare Cabin Embarked  \n",
       "0      0         A/5 21171   7.2500   NaN        S  \n",
       "1      0          PC 17599  71.2833   C85        C  \n",
       "2      0  STON/O2. 3101282   7.9250   NaN        S  \n",
       "3      0            113803  53.1000  C123        S  \n",
       "4      0            373450   8.0500   NaN        S  "
      ]
     },
     "execution_count": 11,
     "metadata": {},
     "output_type": "execute_result"
    }
   ],
   "source": [
    "df_train.head()"
   ]
  },
  {
   "cell_type": "code",
   "execution_count": 12,
   "id": "c784eb3c",
   "metadata": {},
   "outputs": [
    {
     "data": {
      "text/plain": [
       "Index(['PassengerId', 'Survived', 'Pclass', 'Name', 'Sex', 'Age', 'SibSp',\n",
       "       'Parch', 'Ticket', 'Fare', 'Cabin', 'Embarked'],\n",
       "      dtype='object')"
      ]
     },
     "execution_count": 12,
     "metadata": {},
     "output_type": "execute_result"
    }
   ],
   "source": [
    "df_train.columns"
   ]
  },
  {
   "cell_type": "code",
   "execution_count": 13,
   "id": "097ae6f5",
   "metadata": {},
   "outputs": [],
   "source": [
    "df_train.drop(columns=['PassengerId', 'Name', 'Ticket', 'Cabin'], inplace=True)"
   ]
  },
  {
   "cell_type": "markdown",
   "id": "6b0e4c73",
   "metadata": {},
   "source": [
    "## Filling the null values"
   ]
  },
  {
   "cell_type": "code",
   "execution_count": 14,
   "id": "09767491",
   "metadata": {},
   "outputs": [
    {
     "data": {
      "application/vnd.microsoft.datawrangler.viewer.v0+json": {
       "columns": [
        {
         "name": "index",
         "rawType": "object",
         "type": "string"
        },
        {
         "name": "0",
         "rawType": "int64",
         "type": "integer"
        }
       ],
       "ref": "44b39a5f-5b49-4744-acaa-bd9a27923792",
       "rows": [
        [
         "Survived",
         "0"
        ],
        [
         "Pclass",
         "0"
        ],
        [
         "Sex",
         "0"
        ],
        [
         "Age",
         "0"
        ],
        [
         "SibSp",
         "0"
        ],
        [
         "Parch",
         "0"
        ],
        [
         "Fare",
         "0"
        ],
        [
         "Embarked",
         "0"
        ]
       ],
       "shape": {
        "columns": 1,
        "rows": 8
       }
      },
      "text/plain": [
       "Survived    0\n",
       "Pclass      0\n",
       "Sex         0\n",
       "Age         0\n",
       "SibSp       0\n",
       "Parch       0\n",
       "Fare        0\n",
       "Embarked    0\n",
       "dtype: int64"
      ]
     },
     "execution_count": 14,
     "metadata": {},
     "output_type": "execute_result"
    }
   ],
   "source": [
    "df_train[\"Age\"] = df_train[\"Age\"].fillna(df_train[\"Age\"].mean())\n",
    "df_train[\"Embarked\"] = df_train[\"Embarked\"].fillna(df_train[\"Embarked\"].mode()[0])\n",
    "df_train.isna().sum()"
   ]
  },
  {
   "cell_type": "markdown",
   "id": "06c4280e",
   "metadata": {},
   "source": [
    "## Encoding our Categorical features"
   ]
  },
  {
   "cell_type": "code",
   "execution_count": 15,
   "id": "6cc5dce8",
   "metadata": {},
   "outputs": [
    {
     "data": {
      "text/html": [
       "<div>\n",
       "<style scoped>\n",
       "    .dataframe tbody tr th:only-of-type {\n",
       "        vertical-align: middle;\n",
       "    }\n",
       "\n",
       "    .dataframe tbody tr th {\n",
       "        vertical-align: top;\n",
       "    }\n",
       "\n",
       "    .dataframe thead th {\n",
       "        text-align: right;\n",
       "    }\n",
       "</style>\n",
       "<table border=\"1\" class=\"dataframe\">\n",
       "  <thead>\n",
       "    <tr style=\"text-align: right;\">\n",
       "      <th></th>\n",
       "      <th>Survived</th>\n",
       "      <th>Pclass</th>\n",
       "      <th>Sex</th>\n",
       "      <th>Age</th>\n",
       "      <th>SibSp</th>\n",
       "      <th>Parch</th>\n",
       "      <th>Fare</th>\n",
       "      <th>Embarked</th>\n",
       "    </tr>\n",
       "  </thead>\n",
       "  <tbody>\n",
       "    <tr>\n",
       "      <th>0</th>\n",
       "      <td>0</td>\n",
       "      <td>3</td>\n",
       "      <td>male</td>\n",
       "      <td>22.0</td>\n",
       "      <td>1</td>\n",
       "      <td>0</td>\n",
       "      <td>7.2500</td>\n",
       "      <td>S</td>\n",
       "    </tr>\n",
       "    <tr>\n",
       "      <th>1</th>\n",
       "      <td>1</td>\n",
       "      <td>1</td>\n",
       "      <td>female</td>\n",
       "      <td>38.0</td>\n",
       "      <td>1</td>\n",
       "      <td>0</td>\n",
       "      <td>71.2833</td>\n",
       "      <td>C</td>\n",
       "    </tr>\n",
       "    <tr>\n",
       "      <th>2</th>\n",
       "      <td>1</td>\n",
       "      <td>3</td>\n",
       "      <td>female</td>\n",
       "      <td>26.0</td>\n",
       "      <td>0</td>\n",
       "      <td>0</td>\n",
       "      <td>7.9250</td>\n",
       "      <td>S</td>\n",
       "    </tr>\n",
       "    <tr>\n",
       "      <th>3</th>\n",
       "      <td>1</td>\n",
       "      <td>1</td>\n",
       "      <td>female</td>\n",
       "      <td>35.0</td>\n",
       "      <td>1</td>\n",
       "      <td>0</td>\n",
       "      <td>53.1000</td>\n",
       "      <td>S</td>\n",
       "    </tr>\n",
       "    <tr>\n",
       "      <th>4</th>\n",
       "      <td>0</td>\n",
       "      <td>3</td>\n",
       "      <td>male</td>\n",
       "      <td>35.0</td>\n",
       "      <td>0</td>\n",
       "      <td>0</td>\n",
       "      <td>8.0500</td>\n",
       "      <td>S</td>\n",
       "    </tr>\n",
       "  </tbody>\n",
       "</table>\n",
       "</div>"
      ],
      "text/plain": [
       "   Survived  Pclass     Sex   Age  SibSp  Parch     Fare Embarked\n",
       "0         0       3    male  22.0      1      0   7.2500        S\n",
       "1         1       1  female  38.0      1      0  71.2833        C\n",
       "2         1       3  female  26.0      0      0   7.9250        S\n",
       "3         1       1  female  35.0      1      0  53.1000        S\n",
       "4         0       3    male  35.0      0      0   8.0500        S"
      ]
     },
     "execution_count": 15,
     "metadata": {},
     "output_type": "execute_result"
    }
   ],
   "source": [
    "df_train.head()"
   ]
  },
  {
   "cell_type": "code",
   "execution_count": 16,
   "id": "bdf4cef3",
   "metadata": {},
   "outputs": [
    {
     "data": {
      "text/html": [
       "<div>\n",
       "<style scoped>\n",
       "    .dataframe tbody tr th:only-of-type {\n",
       "        vertical-align: middle;\n",
       "    }\n",
       "\n",
       "    .dataframe tbody tr th {\n",
       "        vertical-align: top;\n",
       "    }\n",
       "\n",
       "    .dataframe thead th {\n",
       "        text-align: right;\n",
       "    }\n",
       "</style>\n",
       "<table border=\"1\" class=\"dataframe\">\n",
       "  <thead>\n",
       "    <tr style=\"text-align: right;\">\n",
       "      <th></th>\n",
       "      <th>Survived</th>\n",
       "      <th>Pclass</th>\n",
       "      <th>Sex</th>\n",
       "      <th>Age</th>\n",
       "      <th>SibSp</th>\n",
       "      <th>Parch</th>\n",
       "      <th>Fare</th>\n",
       "      <th>Embarked</th>\n",
       "    </tr>\n",
       "  </thead>\n",
       "  <tbody>\n",
       "    <tr>\n",
       "      <th>0</th>\n",
       "      <td>0</td>\n",
       "      <td>3</td>\n",
       "      <td>1</td>\n",
       "      <td>22.0</td>\n",
       "      <td>1</td>\n",
       "      <td>0</td>\n",
       "      <td>7.2500</td>\n",
       "      <td>2</td>\n",
       "    </tr>\n",
       "    <tr>\n",
       "      <th>1</th>\n",
       "      <td>1</td>\n",
       "      <td>1</td>\n",
       "      <td>0</td>\n",
       "      <td>38.0</td>\n",
       "      <td>1</td>\n",
       "      <td>0</td>\n",
       "      <td>71.2833</td>\n",
       "      <td>0</td>\n",
       "    </tr>\n",
       "    <tr>\n",
       "      <th>2</th>\n",
       "      <td>1</td>\n",
       "      <td>3</td>\n",
       "      <td>0</td>\n",
       "      <td>26.0</td>\n",
       "      <td>0</td>\n",
       "      <td>0</td>\n",
       "      <td>7.9250</td>\n",
       "      <td>2</td>\n",
       "    </tr>\n",
       "    <tr>\n",
       "      <th>3</th>\n",
       "      <td>1</td>\n",
       "      <td>1</td>\n",
       "      <td>0</td>\n",
       "      <td>35.0</td>\n",
       "      <td>1</td>\n",
       "      <td>0</td>\n",
       "      <td>53.1000</td>\n",
       "      <td>2</td>\n",
       "    </tr>\n",
       "    <tr>\n",
       "      <th>4</th>\n",
       "      <td>0</td>\n",
       "      <td>3</td>\n",
       "      <td>1</td>\n",
       "      <td>35.0</td>\n",
       "      <td>0</td>\n",
       "      <td>0</td>\n",
       "      <td>8.0500</td>\n",
       "      <td>2</td>\n",
       "    </tr>\n",
       "  </tbody>\n",
       "</table>\n",
       "</div>"
      ],
      "text/plain": [
       "   Survived  Pclass  Sex   Age  SibSp  Parch     Fare  Embarked\n",
       "0         0       3    1  22.0      1      0   7.2500         2\n",
       "1         1       1    0  38.0      1      0  71.2833         0\n",
       "2         1       3    0  26.0      0      0   7.9250         2\n",
       "3         1       1    0  35.0      1      0  53.1000         2\n",
       "4         0       3    1  35.0      0      0   8.0500         2"
      ]
     },
     "execution_count": 16,
     "metadata": {},
     "output_type": "execute_result"
    }
   ],
   "source": [
    "categorical_cols = df_train.select_dtypes(include=['object']).columns\n",
    "for col in categorical_cols:\n",
    "    le = LabelEncoder()\n",
    "    df_train[col] = le.fit_transform(df_train[col])\n",
    "df_train.head()"
   ]
  },
  {
   "cell_type": "markdown",
   "id": "d175729a",
   "metadata": {},
   "source": [
    "## Spliting our data"
   ]
  },
  {
   "cell_type": "code",
   "execution_count": 17,
   "id": "40c79512",
   "metadata": {},
   "outputs": [],
   "source": [
    "X = df_train.drop(columns=['Survived'])\n",
    "y = df_train['Survived']\n",
    "\n",
    "X_train, X_val, y_train, y_val = train_test_split(X, y, test_size=0.2, random_state=42)"
   ]
  },
  {
   "cell_type": "markdown",
   "id": "1d7fe6e8",
   "metadata": {},
   "source": [
    "## Scaling our data"
   ]
  },
  {
   "cell_type": "code",
   "execution_count": 18,
   "id": "fd9ea928",
   "metadata": {},
   "outputs": [
    {
     "data": {
      "text/html": [
       "<div>\n",
       "<style scoped>\n",
       "    .dataframe tbody tr th:only-of-type {\n",
       "        vertical-align: middle;\n",
       "    }\n",
       "\n",
       "    .dataframe tbody tr th {\n",
       "        vertical-align: top;\n",
       "    }\n",
       "\n",
       "    .dataframe thead th {\n",
       "        text-align: right;\n",
       "    }\n",
       "</style>\n",
       "<table border=\"1\" class=\"dataframe\">\n",
       "  <thead>\n",
       "    <tr style=\"text-align: right;\">\n",
       "      <th></th>\n",
       "      <th>Pclass</th>\n",
       "      <th>Sex</th>\n",
       "      <th>Age</th>\n",
       "      <th>SibSp</th>\n",
       "      <th>Parch</th>\n",
       "      <th>Fare</th>\n",
       "      <th>Embarked</th>\n",
       "    </tr>\n",
       "  </thead>\n",
       "  <tbody>\n",
       "    <tr>\n",
       "      <th>331</th>\n",
       "      <td>1</td>\n",
       "      <td>1</td>\n",
       "      <td>0.566474</td>\n",
       "      <td>0</td>\n",
       "      <td>0</td>\n",
       "      <td>0.055628</td>\n",
       "      <td>2</td>\n",
       "    </tr>\n",
       "    <tr>\n",
       "      <th>733</th>\n",
       "      <td>2</td>\n",
       "      <td>1</td>\n",
       "      <td>0.283740</td>\n",
       "      <td>0</td>\n",
       "      <td>0</td>\n",
       "      <td>0.025374</td>\n",
       "      <td>2</td>\n",
       "    </tr>\n",
       "    <tr>\n",
       "      <th>382</th>\n",
       "      <td>3</td>\n",
       "      <td>1</td>\n",
       "      <td>0.396833</td>\n",
       "      <td>0</td>\n",
       "      <td>0</td>\n",
       "      <td>0.015469</td>\n",
       "      <td>2</td>\n",
       "    </tr>\n",
       "    <tr>\n",
       "      <th>704</th>\n",
       "      <td>3</td>\n",
       "      <td>1</td>\n",
       "      <td>0.321438</td>\n",
       "      <td>1</td>\n",
       "      <td>0</td>\n",
       "      <td>0.015330</td>\n",
       "      <td>2</td>\n",
       "    </tr>\n",
       "    <tr>\n",
       "      <th>813</th>\n",
       "      <td>3</td>\n",
       "      <td>0</td>\n",
       "      <td>0.070118</td>\n",
       "      <td>4</td>\n",
       "      <td>2</td>\n",
       "      <td>0.061045</td>\n",
       "      <td>2</td>\n",
       "    </tr>\n",
       "  </tbody>\n",
       "</table>\n",
       "</div>"
      ],
      "text/plain": [
       "     Pclass  Sex       Age  SibSp  Parch      Fare  Embarked\n",
       "331       1    1  0.566474      0      0  0.055628         2\n",
       "733       2    1  0.283740      0      0  0.025374         2\n",
       "382       3    1  0.396833      0      0  0.015469         2\n",
       "704       3    1  0.321438      1      0  0.015330         2\n",
       "813       3    0  0.070118      4      2  0.061045         2"
      ]
     },
     "execution_count": 18,
     "metadata": {},
     "output_type": "execute_result"
    }
   ],
   "source": [
    "ss = MinMaxScaler()\n",
    "\n",
    "scale_features_train = X_train[['Age', 'Fare']]\n",
    "scale_features_val = X_val[['Age', 'Fare']]\n",
    "\n",
    "X_train[['Age', 'Fare']] = ss.fit_transform(scale_features_train)\n",
    "X_val[['Age', 'Fare']] = ss.transform(scale_features_val)\n",
    "\n",
    "X_train.head()"
   ]
  },
  {
   "cell_type": "code",
   "execution_count": 19,
   "id": "d3a3213e",
   "metadata": {},
   "outputs": [
    {
     "data": {
      "text/html": [
       "<div>\n",
       "<style scoped>\n",
       "    .dataframe tbody tr th:only-of-type {\n",
       "        vertical-align: middle;\n",
       "    }\n",
       "\n",
       "    .dataframe tbody tr th {\n",
       "        vertical-align: top;\n",
       "    }\n",
       "\n",
       "    .dataframe thead th {\n",
       "        text-align: right;\n",
       "    }\n",
       "</style>\n",
       "<table border=\"1\" class=\"dataframe\">\n",
       "  <thead>\n",
       "    <tr style=\"text-align: right;\">\n",
       "      <th></th>\n",
       "      <th>Pclass</th>\n",
       "      <th>Sex</th>\n",
       "      <th>Age</th>\n",
       "      <th>SibSp</th>\n",
       "      <th>Parch</th>\n",
       "      <th>Fare</th>\n",
       "      <th>Embarked</th>\n",
       "    </tr>\n",
       "  </thead>\n",
       "  <tbody>\n",
       "    <tr>\n",
       "      <th>709</th>\n",
       "      <td>3</td>\n",
       "      <td>1</td>\n",
       "      <td>0.367921</td>\n",
       "      <td>1</td>\n",
       "      <td>1</td>\n",
       "      <td>0.029758</td>\n",
       "      <td>0</td>\n",
       "    </tr>\n",
       "    <tr>\n",
       "      <th>439</th>\n",
       "      <td>2</td>\n",
       "      <td>1</td>\n",
       "      <td>0.384267</td>\n",
       "      <td>0</td>\n",
       "      <td>0</td>\n",
       "      <td>0.020495</td>\n",
       "      <td>2</td>\n",
       "    </tr>\n",
       "    <tr>\n",
       "      <th>840</th>\n",
       "      <td>3</td>\n",
       "      <td>1</td>\n",
       "      <td>0.246042</td>\n",
       "      <td>0</td>\n",
       "      <td>0</td>\n",
       "      <td>0.015469</td>\n",
       "      <td>2</td>\n",
       "    </tr>\n",
       "    <tr>\n",
       "      <th>720</th>\n",
       "      <td>2</td>\n",
       "      <td>0</td>\n",
       "      <td>0.070118</td>\n",
       "      <td>0</td>\n",
       "      <td>1</td>\n",
       "      <td>0.064412</td>\n",
       "      <td>2</td>\n",
       "    </tr>\n",
       "    <tr>\n",
       "      <th>39</th>\n",
       "      <td>3</td>\n",
       "      <td>0</td>\n",
       "      <td>0.170646</td>\n",
       "      <td>1</td>\n",
       "      <td>0</td>\n",
       "      <td>0.021942</td>\n",
       "      <td>0</td>\n",
       "    </tr>\n",
       "  </tbody>\n",
       "</table>\n",
       "</div>"
      ],
      "text/plain": [
       "     Pclass  Sex       Age  SibSp  Parch      Fare  Embarked\n",
       "709       3    1  0.367921      1      1  0.029758         0\n",
       "439       2    1  0.384267      0      0  0.020495         2\n",
       "840       3    1  0.246042      0      0  0.015469         2\n",
       "720       2    0  0.070118      0      1  0.064412         2\n",
       "39        3    0  0.170646      1      0  0.021942         0"
      ]
     },
     "execution_count": 19,
     "metadata": {},
     "output_type": "execute_result"
    }
   ],
   "source": [
    "X_val.head()"
   ]
  },
  {
   "cell_type": "markdown",
   "id": "e6765f40",
   "metadata": {},
   "source": [
    "# Intializing our Tensordataset and DataLoader"
   ]
  },
  {
   "cell_type": "markdown",
   "id": "b841cd70",
   "metadata": {},
   "source": [
    "## Changing our data to tensors `Compatible format for neural network model training`"
   ]
  },
  {
   "cell_type": "code",
   "execution_count": 20,
   "id": "cd3f2321",
   "metadata": {},
   "outputs": [],
   "source": [
    "X_train = torch.tensor(X_train.values, dtype=torch.float32)\n",
    "y_train = torch.tensor(y_train.values, dtype=torch.float32).unsqueeze(1)\n",
    "\n",
    "X_val = torch.tensor(X_val.values, dtype=torch.float32)\n",
    "y_val = torch.tensor(y_val.values, dtype=torch.float32).unsqueeze(1)"
   ]
  },
  {
   "cell_type": "markdown",
   "id": "e4ffbd8a",
   "metadata": {},
   "source": [
    "## Creating our TensorDatasets"
   ]
  },
  {
   "cell_type": "code",
   "execution_count": 21,
   "id": "424415f4",
   "metadata": {},
   "outputs": [],
   "source": [
    "train_ds = TensorDataset(X_train, y_train)\n",
    "val_ds = TensorDataset(X_val, y_val)"
   ]
  },
  {
   "cell_type": "markdown",
   "id": "5a683b61",
   "metadata": {},
   "source": [
    "## Creating our Dataloader"
   ]
  },
  {
   "cell_type": "code",
   "execution_count": 22,
   "id": "6ab2a2ba",
   "metadata": {},
   "outputs": [],
   "source": [
    "train_dataloader = DataLoader(train_ds, batch_size=16, shuffle=True)\n",
    "val_dataloader = DataLoader(val_ds, batch_size=16, shuffle=False)"
   ]
  },
  {
   "cell_type": "markdown",
   "id": "0a16d30f",
   "metadata": {},
   "source": [
    "# DNN Model Intialization"
   ]
  },
  {
   "cell_type": "code",
   "execution_count": 23,
   "id": "af0b6e82",
   "metadata": {},
   "outputs": [],
   "source": [
    "class TitanicDNN(nn.Module):\n",
    "    def __init__(self):\n",
    "        super(TitanicDNN, self).__init__()\n",
    "        self.model = nn.Sequential(\n",
    "            nn.Linear(X_train.shape[1], 128),\n",
    "            nn.BatchNorm1d(128),\n",
    "            nn.ReLU(),\n",
    "            nn.Dropout(0.2),\n",
    "            nn.Linear(128, 64),\n",
    "            nn.BatchNorm1d(64),\n",
    "            nn.ReLU(),\n",
    "            nn.Dropout(0.2),\n",
    "            nn.Linear(64, 32),\n",
    "            nn.BatchNorm1d(32),\n",
    "            nn.ReLU(),\n",
    "            nn.Dropout(0.2),\n",
    "            nn.Linear(32, 16),\n",
    "            nn.BatchNorm1d(16),\n",
    "            nn.ReLU(),\n",
    "            nn.Dropout(0.2),\n",
    "            nn.Linear(16, 1)\n",
    "        )\n",
    "\n",
    "    def forward(self, x):\n",
    "        return self.model(x)\n",
    "\n",
    "device = torch.device(\"cuda\" if torch.cuda.is_available() else \"cpu\")\n",
    "\n",
    "model = TitanicDNN().to(device)\n",
    "criterion = nn.BCEWithLogitsLoss()\n",
    "optimizer = torch.optim.Adam(model.parameters(), lr=0.001)\n"
   ]
  },
  {
   "cell_type": "markdown",
   "id": "3798ed42",
   "metadata": {},
   "source": [
    "# Model Training"
   ]
  },
  {
   "cell_type": "code",
   "execution_count": null,
   "id": "b6f84706",
   "metadata": {},
   "outputs": [
    {
     "name": "stdout",
     "output_type": "stream",
     "text": [
      "Epoch 1, Train Loss: 0.6667, Train Acc: 0.6081, Val Loss: 0.5927, Val Acc: 0.7318\n",
      "Epoch 2, Train Loss: 0.5763, Train Acc: 0.7430, Val Loss: 0.5323, Val Acc: 0.7765\n",
      "Epoch 3, Train Loss: 0.5371, Train Acc: 0.7795, Val Loss: 0.4778, Val Acc: 0.7933\n",
      "Epoch 4, Train Loss: 0.4929, Train Acc: 0.8006, Val Loss: 0.4595, Val Acc: 0.8101\n",
      "Epoch 5, Train Loss: 0.5011, Train Acc: 0.7949, Val Loss: 0.4525, Val Acc: 0.8101\n",
      "Epoch 6, Train Loss: 0.4815, Train Acc: 0.7935, Val Loss: 0.4400, Val Acc: 0.8156\n",
      "Epoch 7, Train Loss: 0.4769, Train Acc: 0.7921, Val Loss: 0.4347, Val Acc: 0.8045\n",
      "Epoch 8, Train Loss: 0.4783, Train Acc: 0.8062, Val Loss: 0.4337, Val Acc: 0.8101\n",
      "Epoch 9, Train Loss: 0.4817, Train Acc: 0.7921, Val Loss: 0.4340, Val Acc: 0.8101\n",
      "Epoch 10, Train Loss: 0.4836, Train Acc: 0.7949, Val Loss: 0.4276, Val Acc: 0.8101\n",
      "Epoch 11, Train Loss: 0.4703, Train Acc: 0.8132, Val Loss: 0.4270, Val Acc: 0.8101\n",
      "Epoch 12, Train Loss: 0.4665, Train Acc: 0.8062, Val Loss: 0.4237, Val Acc: 0.8268\n",
      "Epoch 13, Train Loss: 0.4690, Train Acc: 0.8020, Val Loss: 0.4278, Val Acc: 0.8156\n",
      "Epoch 14, Train Loss: 0.4771, Train Acc: 0.7921, Val Loss: 0.4341, Val Acc: 0.8156\n",
      "Epoch 15, Train Loss: 0.4385, Train Acc: 0.8174, Val Loss: 0.4229, Val Acc: 0.8156\n",
      "Epoch 16, Train Loss: 0.4502, Train Acc: 0.8104, Val Loss: 0.4188, Val Acc: 0.8156\n",
      "Epoch 17, Train Loss: 0.4593, Train Acc: 0.8034, Val Loss: 0.4270, Val Acc: 0.8156\n",
      "Epoch 18, Train Loss: 0.4693, Train Acc: 0.8104, Val Loss: 0.4236, Val Acc: 0.8156\n",
      "Epoch 19, Train Loss: 0.4707, Train Acc: 0.8090, Val Loss: 0.4234, Val Acc: 0.8212\n",
      "Epoch 20, Train Loss: 0.4594, Train Acc: 0.8034, Val Loss: 0.4258, Val Acc: 0.8156\n",
      "Epoch 21, Train Loss: 0.4543, Train Acc: 0.8174, Val Loss: 0.4221, Val Acc: 0.8156\n",
      "Epoch 22, Train Loss: 0.4329, Train Acc: 0.8062, Val Loss: 0.4225, Val Acc: 0.8156\n",
      "Epoch 23, Train Loss: 0.4577, Train Acc: 0.8160, Val Loss: 0.4204, Val Acc: 0.8156\n",
      "Epoch 24, Train Loss: 0.4499, Train Acc: 0.8118, Val Loss: 0.4279, Val Acc: 0.8156\n",
      "Epoch 25, Train Loss: 0.4536, Train Acc: 0.8118, Val Loss: 0.4256, Val Acc: 0.8156\n",
      "Epoch 26, Train Loss: 0.4444, Train Acc: 0.8216, Val Loss: 0.4315, Val Acc: 0.8156\n",
      "Epoch 27, Train Loss: 0.4404, Train Acc: 0.8174, Val Loss: 0.4286, Val Acc: 0.8156\n",
      "Epoch 28, Train Loss: 0.4485, Train Acc: 0.7921, Val Loss: 0.4283, Val Acc: 0.8101\n",
      "Epoch 29, Train Loss: 0.4418, Train Acc: 0.8160, Val Loss: 0.4335, Val Acc: 0.8156\n",
      "Epoch 30, Train Loss: 0.4322, Train Acc: 0.8202, Val Loss: 0.4226, Val Acc: 0.8101\n",
      "Epoch 31, Train Loss: 0.4428, Train Acc: 0.8174, Val Loss: 0.4199, Val Acc: 0.8156\n",
      "Epoch 32, Train Loss: 0.4424, Train Acc: 0.8230, Val Loss: 0.4204, Val Acc: 0.8156\n",
      "Epoch 33, Train Loss: 0.4376, Train Acc: 0.8146, Val Loss: 0.4220, Val Acc: 0.8156\n",
      "Epoch 34, Train Loss: 0.4422, Train Acc: 0.8202, Val Loss: 0.4205, Val Acc: 0.8212\n",
      "Epoch 35, Train Loss: 0.4552, Train Acc: 0.8104, Val Loss: 0.4222, Val Acc: 0.8156\n",
      "Epoch 36, Train Loss: 0.4259, Train Acc: 0.8385, Val Loss: 0.4202, Val Acc: 0.8156\n",
      "Epoch 37, Train Loss: 0.4252, Train Acc: 0.8272, Val Loss: 0.4176, Val Acc: 0.8212\n",
      "Epoch 38, Train Loss: 0.4374, Train Acc: 0.8301, Val Loss: 0.4244, Val Acc: 0.8156\n",
      "Epoch 39, Train Loss: 0.4354, Train Acc: 0.8258, Val Loss: 0.4228, Val Acc: 0.8212\n",
      "Epoch 40, Train Loss: 0.4205, Train Acc: 0.8315, Val Loss: 0.4303, Val Acc: 0.8156\n",
      "Epoch 41, Train Loss: 0.4728, Train Acc: 0.8034, Val Loss: 0.4268, Val Acc: 0.8156\n",
      "Epoch 42, Train Loss: 0.4287, Train Acc: 0.8244, Val Loss: 0.4309, Val Acc: 0.8156\n",
      "Epoch 43, Train Loss: 0.4322, Train Acc: 0.8146, Val Loss: 0.4272, Val Acc: 0.8212\n",
      "Epoch 44, Train Loss: 0.4210, Train Acc: 0.8230, Val Loss: 0.4282, Val Acc: 0.8212\n",
      "Epoch 45, Train Loss: 0.4405, Train Acc: 0.8104, Val Loss: 0.4226, Val Acc: 0.8212\n",
      "Epoch 46, Train Loss: 0.4467, Train Acc: 0.8216, Val Loss: 0.4277, Val Acc: 0.8212\n",
      "Epoch 47, Train Loss: 0.4410, Train Acc: 0.8118, Val Loss: 0.4335, Val Acc: 0.8101\n",
      "Epoch 48, Train Loss: 0.4393, Train Acc: 0.8188, Val Loss: 0.4239, Val Acc: 0.8156\n",
      "Epoch 49, Train Loss: 0.4284, Train Acc: 0.8258, Val Loss: 0.4256, Val Acc: 0.8156\n",
      "Epoch 50, Train Loss: 0.4277, Train Acc: 0.8188, Val Loss: 0.4257, Val Acc: 0.8212\n",
      "Epoch 51, Train Loss: 0.4315, Train Acc: 0.8216, Val Loss: 0.4302, Val Acc: 0.8156\n",
      "Epoch 52, Train Loss: 0.4347, Train Acc: 0.8146, Val Loss: 0.4284, Val Acc: 0.8156\n",
      "Epoch 53, Train Loss: 0.4391, Train Acc: 0.8118, Val Loss: 0.4299, Val Acc: 0.8212\n",
      "Epoch 54, Train Loss: 0.4146, Train Acc: 0.8244, Val Loss: 0.4321, Val Acc: 0.8212\n",
      "Epoch 55, Train Loss: 0.4269, Train Acc: 0.8090, Val Loss: 0.4285, Val Acc: 0.8212\n",
      "Epoch 56, Train Loss: 0.4365, Train Acc: 0.8202, Val Loss: 0.4201, Val Acc: 0.8212\n",
      "Epoch 57, Train Loss: 0.4222, Train Acc: 0.8315, Val Loss: 0.4280, Val Acc: 0.8156\n",
      "Epoch 58, Train Loss: 0.4154, Train Acc: 0.8357, Val Loss: 0.4263, Val Acc: 0.8268\n",
      "Epoch 59, Train Loss: 0.4371, Train Acc: 0.8076, Val Loss: 0.4271, Val Acc: 0.8268\n",
      "Epoch 60, Train Loss: 0.4138, Train Acc: 0.8301, Val Loss: 0.4236, Val Acc: 0.8212\n",
      "Epoch 61, Train Loss: 0.4285, Train Acc: 0.8202, Val Loss: 0.4310, Val Acc: 0.8212\n",
      "Epoch 62, Train Loss: 0.4397, Train Acc: 0.8216, Val Loss: 0.4242, Val Acc: 0.8212\n",
      "Epoch 63, Train Loss: 0.4351, Train Acc: 0.8301, Val Loss: 0.4282, Val Acc: 0.8156\n",
      "Epoch 64, Train Loss: 0.4097, Train Acc: 0.8357, Val Loss: 0.4224, Val Acc: 0.8212\n",
      "Epoch 65, Train Loss: 0.3994, Train Acc: 0.8357, Val Loss: 0.4246, Val Acc: 0.8156\n",
      "Epoch 66, Train Loss: 0.4196, Train Acc: 0.8216, Val Loss: 0.4230, Val Acc: 0.8156\n",
      "Epoch 67, Train Loss: 0.4205, Train Acc: 0.8287, Val Loss: 0.4343, Val Acc: 0.8212\n",
      "Epoch 68, Train Loss: 0.4213, Train Acc: 0.8301, Val Loss: 0.4246, Val Acc: 0.8156\n",
      "Epoch 69, Train Loss: 0.4270, Train Acc: 0.8258, Val Loss: 0.4333, Val Acc: 0.8101\n",
      "Epoch 70, Train Loss: 0.4342, Train Acc: 0.8258, Val Loss: 0.4381, Val Acc: 0.8212\n",
      "Epoch 71, Train Loss: 0.4281, Train Acc: 0.8413, Val Loss: 0.4305, Val Acc: 0.8156\n",
      "Epoch 72, Train Loss: 0.4033, Train Acc: 0.8413, Val Loss: 0.4280, Val Acc: 0.8101\n",
      "Epoch 73, Train Loss: 0.4335, Train Acc: 0.8230, Val Loss: 0.4308, Val Acc: 0.8212\n",
      "Epoch 74, Train Loss: 0.4071, Train Acc: 0.8385, Val Loss: 0.4295, Val Acc: 0.8268\n",
      "Epoch 75, Train Loss: 0.4342, Train Acc: 0.8230, Val Loss: 0.4271, Val Acc: 0.8212\n",
      "Epoch 76, Train Loss: 0.3969, Train Acc: 0.8357, Val Loss: 0.4301, Val Acc: 0.8268\n",
      "Epoch 77, Train Loss: 0.4063, Train Acc: 0.8357, Val Loss: 0.4228, Val Acc: 0.8268\n",
      "Epoch 78, Train Loss: 0.3975, Train Acc: 0.8385, Val Loss: 0.4221, Val Acc: 0.8324\n",
      "Epoch 79, Train Loss: 0.4121, Train Acc: 0.8357, Val Loss: 0.4200, Val Acc: 0.8324\n",
      "Epoch 80, Train Loss: 0.4355, Train Acc: 0.8160, Val Loss: 0.4383, Val Acc: 0.8212\n",
      "Epoch 81, Train Loss: 0.4051, Train Acc: 0.8301, Val Loss: 0.4365, Val Acc: 0.8156\n",
      "Epoch 82, Train Loss: 0.4332, Train Acc: 0.8216, Val Loss: 0.4463, Val Acc: 0.8212\n",
      "Epoch 83, Train Loss: 0.3951, Train Acc: 0.8301, Val Loss: 0.4314, Val Acc: 0.8156\n",
      "Epoch 84, Train Loss: 0.4305, Train Acc: 0.8146, Val Loss: 0.4298, Val Acc: 0.8212\n",
      "Epoch 85, Train Loss: 0.4071, Train Acc: 0.8301, Val Loss: 0.4280, Val Acc: 0.8101\n",
      "Epoch 86, Train Loss: 0.4091, Train Acc: 0.8315, Val Loss: 0.4285, Val Acc: 0.8101\n",
      "Epoch 87, Train Loss: 0.4199, Train Acc: 0.8230, Val Loss: 0.4273, Val Acc: 0.8156\n",
      "Epoch 88, Train Loss: 0.4078, Train Acc: 0.8230, Val Loss: 0.4269, Val Acc: 0.8156\n",
      "Epoch 89, Train Loss: 0.4266, Train Acc: 0.8216, Val Loss: 0.4259, Val Acc: 0.8212\n",
      "Epoch 90, Train Loss: 0.4036, Train Acc: 0.8385, Val Loss: 0.4244, Val Acc: 0.8156\n",
      "Epoch 91, Train Loss: 0.4089, Train Acc: 0.8329, Val Loss: 0.4267, Val Acc: 0.8268\n",
      "Epoch 92, Train Loss: 0.4034, Train Acc: 0.8244, Val Loss: 0.4236, Val Acc: 0.8212\n",
      "Epoch 93, Train Loss: 0.4122, Train Acc: 0.8315, Val Loss: 0.4321, Val Acc: 0.8324\n",
      "Epoch 94, Train Loss: 0.4019, Train Acc: 0.8258, Val Loss: 0.4322, Val Acc: 0.8045\n",
      "Epoch 95, Train Loss: 0.4071, Train Acc: 0.8244, Val Loss: 0.4290, Val Acc: 0.8268\n",
      "Epoch 96, Train Loss: 0.4143, Train Acc: 0.8301, Val Loss: 0.4229, Val Acc: 0.8156\n",
      "Epoch 97, Train Loss: 0.4194, Train Acc: 0.8272, Val Loss: 0.4212, Val Acc: 0.8268\n",
      "Epoch 98, Train Loss: 0.4098, Train Acc: 0.8244, Val Loss: 0.4271, Val Acc: 0.8156\n",
      "Epoch 99, Train Loss: 0.4089, Train Acc: 0.8329, Val Loss: 0.4250, Val Acc: 0.8268\n",
      "Epoch 100, Train Loss: 0.4324, Train Acc: 0.8244, Val Loss: 0.4239, Val Acc: 0.8212\n"
     ]
    }
   ],
   "source": [
    "epochs = 100\n",
    "\n",
    "# Training loop\n",
    "for epoch in range(epochs):\n",
    "    model.train()\n",
    "    train_loss = 0.0\n",
    "    train_correct = 0\n",
    "    total_train = 0\n",
    "\n",
    "    # Loop through training batches\n",
    "    for x, y in train_dataloader:\n",
    "        x, y = x.to(device), y.to(device)\n",
    "\n",
    "        optimizer.zero_grad()              # Reset gradients\n",
    "        outputs = model(x)                 # Forward pass\n",
    "        loss = criterion(outputs, y)       # Calculate loss\n",
    "        loss.backward()                    # Backward pass\n",
    "        optimizer.step()                   # Update weights\n",
    "\n",
    "        train_loss += loss.item() * x.size(0)  \n",
    "\n",
    "        # Accuracy: convert logits to binary prediction (0 or 1)\n",
    "        preds = (torch.sigmoid(outputs) > 0.5).float()\n",
    "        train_correct += (preds == y).sum().item()  \n",
    "        total_train += y.size(0)                    \n",
    "\n",
    "    train_loss /= len(train_dataloader.dataset)     # Average train loss\n",
    "    train_acc = train_correct / total_train         # Training accuracy\n",
    "\n",
    "    model.eval()\n",
    "    val_loss = 0.0\n",
    "    val_correct = 0\n",
    "    total_val = 0\n",
    "\n",
    "    # Disable gradient calculation for validation\n",
    "    with torch.no_grad():\n",
    "        for x, y in val_dataloader:\n",
    "            x, y = x.to(device), y.to(device)\n",
    "\n",
    "            outputs = model(x)\n",
    "            loss = criterion(outputs, y)\n",
    "            val_loss += loss.item() * x.size(0)\n",
    "\n",
    "            # Accuracy: convert logits to binary prediction (0 or 1)\n",
    "            preds = (torch.sigmoid(outputs) > 0.5).float()\n",
    "            val_correct += (preds == y).sum().item()\n",
    "            total_val += y.size(0)\n",
    "\n",
    "    val_loss /= len(val_dataloader.dataset)         # Average val loss\n",
    "    val_acc = val_correct / total_val               # Validation accuracy\n",
    "\n",
    "    print(f'Epoch {epoch+1}, Train Loss: {train_loss:.4f}, Train Acc: {train_acc:.4f}, Val Loss: {val_loss:.4f}, Val Acc: {val_acc:.4f}')\n"
   ]
  },
  {
   "cell_type": "markdown",
   "id": "799033c4",
   "metadata": {},
   "source": [
    "# Saving our model in an onnx compatible format"
   ]
  },
  {
   "cell_type": "code",
   "execution_count": 27,
   "id": "4506c0f1",
   "metadata": {},
   "outputs": [],
   "source": [
    "model.eval()\n",
    "sample_input = torch.randn(1, X_train.shape[1]).to(device)"
   ]
  },
  {
   "cell_type": "code",
   "execution_count": 28,
   "id": "4e57ed14",
   "metadata": {},
   "outputs": [],
   "source": [
    "torch.onnx.export(\n",
    "    model,                      # your model\n",
    "    sample_input,               # dummy input\n",
    "    \"models/titanic_model.onnx\",# output file\n",
    "    export_params=True,         # store the trained weights\n",
    "    opset_version=11,           # ONNX version (11 is widely supported)\n",
    "    do_constant_folding=True,   # optimize constants\n",
    "    input_names=['input'],      # name of model input\n",
    "    output_names=['output'],    # name of model output\n",
    "    dynamic_axes={              # support variable batch size\n",
    "        'input': {0: 'batch_size'},\n",
    "        'output': {0: 'batch_size'}\n",
    "    }\n",
    ")\n"
   ]
  }
 ],
 "metadata": {
  "kernelspec": {
   "display_name": "MLOps",
   "language": "python",
   "name": "python3"
  },
  "language_info": {
   "codemirror_mode": {
    "name": "ipython",
    "version": 3
   },
   "file_extension": ".py",
   "mimetype": "text/x-python",
   "name": "python",
   "nbconvert_exporter": "python",
   "pygments_lexer": "ipython3",
   "version": "3.11.11"
  }
 },
 "nbformat": 4,
 "nbformat_minor": 5
}
